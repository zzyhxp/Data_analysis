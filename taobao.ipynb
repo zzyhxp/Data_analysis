{
 "cells": [
  {
   "cell_type": "markdown",
   "metadata": {},
   "source": [
    "# 探索淘宝用户行为数据集\n",
    "\n",
    "\n",
    "\n",
    "## 目录\n",
    "- [简介](#intro)\n",
    "- [I - 提出问题](#question)\n",
    "- [II - 收集数据](#data_collect)\n",
    "- [III - 整理数据](#data_wrangle)\n",
    "- [IV - 探索性数据分析](#EDA)\n",
    "- [V - 结论](#conclusion)\n",
    "- [VI - 反思](#introspection)\n",
    "<a id='intro'></a>\n",
    "## 简介\n",
    "\n",
    "    1、数据集描述\n",
    "\n",
    "    数据集包含了2017年11月25日至2017年12月3日之间，有行为的约一百万随机用户的所有行为（行为包括点击、购买、加购、喜欢）。每一行表示一条用户行为，由用户ID、商品ID、商品类目ID、行为类型和时间戳组成，并加以逗号分割。\n",
    "\n",
    "    2、内容\n",
    "    \n",
    "    对用户浏览行为的时间规律及用户行为的转化情况进行了探索。\n",
    "\n",
    "<a id='problem'></a>"
   ]
  },
  {
   "cell_type": "markdown",
   "metadata": {},
   "source": [
    "## 提出问题"
   ]
  },
  {
   "cell_type": "markdown",
   "metadata": {},
   "source": [
    "### 1、用户浏览行为有何时间规律？\n",
    "\n",
    "### 2、用户行为的转化情况如何？\n",
    "<a id='data_collect'></a>"
   ]
  },
  {
   "cell_type": "markdown",
   "metadata": {},
   "source": [
    "## 收集数据"
   ]
  },
  {
   "cell_type": "markdown",
   "metadata": {},
   "source": [
    "数据集已从阿里云天池下载至本地，为csv格式。"
   ]
  },
  {
   "cell_type": "code",
   "execution_count": 1,
   "metadata": {},
   "outputs": [
    {
     "name": "stderr",
     "output_type": "stream",
     "text": [
      "/anaconda3/lib/python3.6/importlib/_bootstrap.py:219: RuntimeWarning: numpy.dtype size changed, may indicate binary incompatibility. Expected 96, got 88\n",
      "  return f(*args, **kwds)\n",
      "/anaconda3/lib/python3.6/importlib/_bootstrap.py:219: RuntimeWarning: numpy.dtype size changed, may indicate binary incompatibility. Expected 96, got 88\n",
      "  return f(*args, **kwds)\n"
     ]
    }
   ],
   "source": [
    "# 导入包\n",
    "import pandas as pd\n",
    "import matplotlib.pyplot as plt\n",
    "import datetime\n",
    "from pyecharts.charts import Funnel, Bar, Line, Page, Boxplot\n",
    "from pyecharts import options as opts\n",
    "    \n",
    "%matplotlib inline"
   ]
  },
  {
   "cell_type": "code",
   "execution_count": 2,
   "metadata": {},
   "outputs": [],
   "source": [
    "# 导入数据集\n",
    "df = pd.read_csv('UserBehavior.csv', header = None, names = [\"User ID\", \"Item ID\", \"Category ID\", \n",
    "                                                                             \"Behavior type\", \"Timestamp\"])"
   ]
  },
  {
   "cell_type": "code",
   "execution_count": 3,
   "metadata": {},
   "outputs": [
    {
     "data": {
      "text/html": [
       "<div>\n",
       "<style scoped>\n",
       "    .dataframe tbody tr th:only-of-type {\n",
       "        vertical-align: middle;\n",
       "    }\n",
       "\n",
       "    .dataframe tbody tr th {\n",
       "        vertical-align: top;\n",
       "    }\n",
       "\n",
       "    .dataframe thead th {\n",
       "        text-align: right;\n",
       "    }\n",
       "</style>\n",
       "<table border=\"1\" class=\"dataframe\">\n",
       "  <thead>\n",
       "    <tr style=\"text-align: right;\">\n",
       "      <th></th>\n",
       "      <th>User ID</th>\n",
       "      <th>Item ID</th>\n",
       "      <th>Category ID</th>\n",
       "      <th>Behavior type</th>\n",
       "      <th>Timestamp</th>\n",
       "    </tr>\n",
       "  </thead>\n",
       "  <tbody>\n",
       "    <tr>\n",
       "      <th>0</th>\n",
       "      <td>1</td>\n",
       "      <td>2268318</td>\n",
       "      <td>2520377</td>\n",
       "      <td>pv</td>\n",
       "      <td>1511544070</td>\n",
       "    </tr>\n",
       "  </tbody>\n",
       "</table>\n",
       "</div>"
      ],
      "text/plain": [
       "   User ID  Item ID  Category ID Behavior type   Timestamp\n",
       "0        1  2268318      2520377            pv  1511544070"
      ]
     },
     "execution_count": 3,
     "metadata": {},
     "output_type": "execute_result"
    }
   ],
   "source": [
    "# 查看表头\n",
    "df.head(1)"
   ]
  },
  {
   "cell_type": "markdown",
   "metadata": {},
   "source": [
    "<a id='data_wrangle'></a>"
   ]
  },
  {
   "cell_type": "markdown",
   "metadata": {},
   "source": [
    "## 整理数据"
   ]
  },
  {
   "cell_type": "markdown",
   "metadata": {},
   "source": [
    "### 一、评估数据"
   ]
  },
  {
   "cell_type": "code",
   "execution_count": 4,
   "metadata": {},
   "outputs": [
    {
     "name": "stdout",
     "output_type": "stream",
     "text": [
      "<class 'pandas.core.frame.DataFrame'>\n",
      "RangeIndex: 100150807 entries, 0 to 100150806\n",
      "Data columns (total 5 columns):\n",
      "User ID          int64\n",
      "Item ID          int64\n",
      "Category ID      int64\n",
      "Behavior type    object\n",
      "Timestamp        int64\n",
      "dtypes: int64(4), object(1)\n",
      "memory usage: 3.7+ GB\n"
     ]
    }
   ],
   "source": [
    "# 查看数据集列的具体信息\n",
    "df.info()"
   ]
  },
  {
   "cell_type": "code",
   "execution_count": 5,
   "metadata": {},
   "outputs": [
    {
     "data": {
      "text/plain": [
       "User ID          False\n",
       "Item ID          False\n",
       "Category ID      False\n",
       "Behavior type    False\n",
       "Timestamp        False\n",
       "dtype: bool"
      ]
     },
     "execution_count": 5,
     "metadata": {},
     "output_type": "execute_result"
    }
   ],
   "source": [
    "# 查看有无缺失值\n",
    "df.isnull().any()"
   ]
  },
  {
   "cell_type": "code",
   "execution_count": 6,
   "metadata": {},
   "outputs": [],
   "source": [
    "# 拷贝数据集\n",
    "df_clean = df.copy()"
   ]
  },
  {
   "cell_type": "markdown",
   "metadata": {},
   "source": [
    "#### 质量"
   ]
  },
  {
   "cell_type": "markdown",
   "metadata": {},
   "source": [
    "- Timestamp列数据类型应为datetime\n",
    "- Timestamp列的日期应在2017年11月25日至2017年12月3日之间"
   ]
  },
  {
   "cell_type": "markdown",
   "metadata": {},
   "source": [
    "### 二、清理数据"
   ]
  },
  {
   "cell_type": "markdown",
   "metadata": {},
   "source": [
    "#### 质量"
   ]
  },
  {
   "cell_type": "markdown",
   "metadata": {},
   "source": [
    "- Timestamp列数据类型应为datetime，根据探索问题需单独提取日期及小时信息\n",
    "- Timestamp列的日期应在2017年11月25日至2017年12月3日之间"
   ]
  },
  {
   "cell_type": "markdown",
   "metadata": {},
   "source": [
    "##### 定义"
   ]
  },
  {
   "cell_type": "markdown",
   "metadata": {},
   "source": [
    "- 将Timestamp列数据类型调整为datetime，新增Date列显示年、月、日信息，新增Hour列显示小时信息。\n",
    "- 清理2017年11月25日至2017年12月3日外的数据行"
   ]
  },
  {
   "cell_type": "markdown",
   "metadata": {},
   "source": [
    "##### 代码"
   ]
  },
  {
   "cell_type": "code",
   "execution_count": 7,
   "metadata": {},
   "outputs": [],
   "source": [
    "# 将Timestamp列数据类型调整为datetime\n",
    "df_clean['Timestamp'] = df_clean['Timestamp'].apply(lambda x: datetime.datetime.fromtimestamp(x))"
   ]
  },
  {
   "cell_type": "code",
   "execution_count": 8,
   "metadata": {},
   "outputs": [],
   "source": [
    "# 新增Date列显示年、月、日信息\n",
    "df_clean['Date'] = df_clean['Timestamp'].apply(lambda y: y.strftime(\"%Y-%m-%d\"))"
   ]
  },
  {
   "cell_type": "code",
   "execution_count": 9,
   "metadata": {},
   "outputs": [],
   "source": [
    "# 新增Hour列显示小时信息\n",
    "df_clean['Hour'] = df_clean['Timestamp'].dt.hour"
   ]
  },
  {
   "cell_type": "code",
   "execution_count": 10,
   "metadata": {},
   "outputs": [
    {
     "data": {
      "text/plain": [
       "2017-12-02    13777869\n",
       "2017-12-03    13662159\n",
       "2017-12-01    10859436\n",
       "2017-11-26    10664602\n",
       "2017-11-30    10447740\n",
       "2017-11-25    10420015\n",
       "2017-11-29    10284073\n",
       "2017-11-27    10101147\n",
       "2017-11-28     9878190\n",
       "2017-11-24       40231\n",
       "2017-11-23        4664\n",
       "2017-11-22        1546\n",
       "2017-12-04         825\n",
       "2017-11-21         743\n",
       "2017-11-19         647\n",
       "Name: Date, dtype: int64"
      ]
     },
     "execution_count": 10,
     "metadata": {},
     "output_type": "execute_result"
    }
   ],
   "source": [
    "# 查看有无2017年11月25日至2017年12月3日外的日期\n",
    "df_clean['Date'].value_counts()[:15]"
   ]
  },
  {
   "cell_type": "code",
   "execution_count": 11,
   "metadata": {},
   "outputs": [],
   "source": [
    "# 清理2017年11月25日至2017年12月3日外的数据行\n",
    "df_clean = df_clean[df_clean[\"Date\"] <= '2017-12-03']\n",
    "df_clean = df_clean[df_clean['Date'] >= '2017-11-25']"
   ]
  },
  {
   "cell_type": "markdown",
   "metadata": {},
   "source": [
    "##### 检验"
   ]
  },
  {
   "cell_type": "code",
   "execution_count": 12,
   "metadata": {},
   "outputs": [
    {
     "data": {
      "text/html": [
       "<div>\n",
       "<style scoped>\n",
       "    .dataframe tbody tr th:only-of-type {\n",
       "        vertical-align: middle;\n",
       "    }\n",
       "\n",
       "    .dataframe tbody tr th {\n",
       "        vertical-align: top;\n",
       "    }\n",
       "\n",
       "    .dataframe thead th {\n",
       "        text-align: right;\n",
       "    }\n",
       "</style>\n",
       "<table border=\"1\" class=\"dataframe\">\n",
       "  <thead>\n",
       "    <tr style=\"text-align: right;\">\n",
       "      <th></th>\n",
       "      <th>User ID</th>\n",
       "      <th>Item ID</th>\n",
       "      <th>Category ID</th>\n",
       "      <th>Behavior type</th>\n",
       "      <th>Timestamp</th>\n",
       "      <th>Date</th>\n",
       "      <th>Hour</th>\n",
       "    </tr>\n",
       "  </thead>\n",
       "  <tbody>\n",
       "    <tr>\n",
       "      <th>0</th>\n",
       "      <td>1</td>\n",
       "      <td>2268318</td>\n",
       "      <td>2520377</td>\n",
       "      <td>pv</td>\n",
       "      <td>2017-11-25 01:21:10</td>\n",
       "      <td>2017-11-25</td>\n",
       "      <td>1</td>\n",
       "    </tr>\n",
       "    <tr>\n",
       "      <th>1</th>\n",
       "      <td>1</td>\n",
       "      <td>2333346</td>\n",
       "      <td>2520771</td>\n",
       "      <td>pv</td>\n",
       "      <td>2017-11-25 06:15:33</td>\n",
       "      <td>2017-11-25</td>\n",
       "      <td>6</td>\n",
       "    </tr>\n",
       "    <tr>\n",
       "      <th>2</th>\n",
       "      <td>1</td>\n",
       "      <td>2576651</td>\n",
       "      <td>149192</td>\n",
       "      <td>pv</td>\n",
       "      <td>2017-11-25 09:21:25</td>\n",
       "      <td>2017-11-25</td>\n",
       "      <td>9</td>\n",
       "    </tr>\n",
       "    <tr>\n",
       "      <th>3</th>\n",
       "      <td>1</td>\n",
       "      <td>3830808</td>\n",
       "      <td>4181361</td>\n",
       "      <td>pv</td>\n",
       "      <td>2017-11-25 15:04:53</td>\n",
       "      <td>2017-11-25</td>\n",
       "      <td>15</td>\n",
       "    </tr>\n",
       "    <tr>\n",
       "      <th>4</th>\n",
       "      <td>1</td>\n",
       "      <td>4365585</td>\n",
       "      <td>2520377</td>\n",
       "      <td>pv</td>\n",
       "      <td>2017-11-25 15:49:06</td>\n",
       "      <td>2017-11-25</td>\n",
       "      <td>15</td>\n",
       "    </tr>\n",
       "  </tbody>\n",
       "</table>\n",
       "</div>"
      ],
      "text/plain": [
       "   User ID  Item ID  Category ID Behavior type           Timestamp  \\\n",
       "0        1  2268318      2520377            pv 2017-11-25 01:21:10   \n",
       "1        1  2333346      2520771            pv 2017-11-25 06:15:33   \n",
       "2        1  2576651       149192            pv 2017-11-25 09:21:25   \n",
       "3        1  3830808      4181361            pv 2017-11-25 15:04:53   \n",
       "4        1  4365585      2520377            pv 2017-11-25 15:49:06   \n",
       "\n",
       "         Date  Hour  \n",
       "0  2017-11-25     1  \n",
       "1  2017-11-25     6  \n",
       "2  2017-11-25     9  \n",
       "3  2017-11-25    15  \n",
       "4  2017-11-25    15  "
      ]
     },
     "execution_count": 12,
     "metadata": {},
     "output_type": "execute_result"
    }
   ],
   "source": [
    "df_clean.head()"
   ]
  },
  {
   "cell_type": "code",
   "execution_count": 13,
   "metadata": {},
   "outputs": [
    {
     "data": {
      "text/plain": [
       "2017-12-02    13777869\n",
       "2017-12-03    13662159\n",
       "2017-12-01    10859436\n",
       "2017-11-26    10664602\n",
       "2017-11-30    10447740\n",
       "2017-11-25    10420015\n",
       "2017-11-29    10284073\n",
       "2017-11-27    10101147\n",
       "2017-11-28     9878190\n",
       "Name: Date, dtype: int64"
      ]
     },
     "execution_count": 13,
     "metadata": {},
     "output_type": "execute_result"
    }
   ],
   "source": [
    "df_clean['Date'].value_counts()"
   ]
  },
  {
   "cell_type": "code",
   "execution_count": 14,
   "metadata": {},
   "outputs": [
    {
     "name": "stdout",
     "output_type": "stream",
     "text": [
      "<class 'pandas.core.frame.DataFrame'>\n",
      "Int64Index: 100095231 entries, 0 to 100150806\n",
      "Data columns (total 7 columns):\n",
      "User ID          int64\n",
      "Item ID          int64\n",
      "Category ID      int64\n",
      "Behavior type    object\n",
      "Timestamp        datetime64[ns]\n",
      "Date             object\n",
      "Hour             int64\n",
      "dtypes: datetime64[ns](1), int64(4), object(2)\n",
      "memory usage: 6.0+ GB\n"
     ]
    }
   ],
   "source": [
    "df_clean.info()"
   ]
  },
  {
   "cell_type": "markdown",
   "metadata": {},
   "source": [
    "<a id='EDA'></a>"
   ]
  },
  {
   "cell_type": "markdown",
   "metadata": {},
   "source": [
    "## 探索性数据分析"
   ]
  },
  {
   "cell_type": "markdown",
   "metadata": {},
   "source": [
    "### 1、用户浏览行为有何时间规律？"
   ]
  },
  {
   "cell_type": "code",
   "execution_count": 15,
   "metadata": {},
   "outputs": [
    {
     "data": {
      "text/plain": [
       "pv    89660688\n",
       "Name: Behavior type, dtype: int64"
      ]
     },
     "execution_count": 15,
     "metadata": {},
     "output_type": "execute_result"
    }
   ],
   "source": [
    "# 建立用户浏览量数据集\n",
    "df_clean_pv = df_clean[df_clean['Behavior type'] == 'pv']\n",
    "\n",
    "# 检验数据集正确性\n",
    "df_clean_pv['Behavior type'].value_counts()"
   ]
  },
  {
   "cell_type": "code",
   "execution_count": 30,
   "metadata": {},
   "outputs": [
    {
     "data": {
      "text/html": [
       "<script>\n",
       "    require.config({\n",
       "        paths: {\n",
       "            'echarts':'https://assets.pyecharts.org/assets/echarts.min'\n",
       "        }\n",
       "    });\n",
       "</script>\n",
       "\n",
       "    <div id=\"ef9522de7aae42929b8569190f928c83\" style=\"width:980px; height:500px;\"></div>\n",
       "\n",
       "\n",
       "<script>\n",
       "    require(['echarts'], function(echarts) {\n",
       "        var chart_ef9522de7aae42929b8569190f928c83 = echarts.init(\n",
       "            document.getElementById('ef9522de7aae42929b8569190f928c83'), 'white', {renderer: 'canvas'});\n",
       "        var option_ef9522de7aae42929b8569190f928c83 = {\n",
       "    \"color\": [\n",
       "        \"#c23531\",\n",
       "        \"#2f4554\",\n",
       "        \"#61a0a8\",\n",
       "        \"#d48265\",\n",
       "        \"#749f83\",\n",
       "        \"#ca8622\",\n",
       "        \"#bda29a\",\n",
       "        \"#6e7074\",\n",
       "        \"#546570\",\n",
       "        \"#c4ccd3\",\n",
       "        \"#f05b72\",\n",
       "        \"#ef5b9c\",\n",
       "        \"#f47920\",\n",
       "        \"#905a3d\",\n",
       "        \"#fab27b\",\n",
       "        \"#2a5caa\",\n",
       "        \"#444693\",\n",
       "        \"#726930\",\n",
       "        \"#b2d235\",\n",
       "        \"#6d8346\",\n",
       "        \"#ac6767\",\n",
       "        \"#1d953f\",\n",
       "        \"#6950a1\",\n",
       "        \"#918597\"\n",
       "    ],\n",
       "    \"series\": [\n",
       "        {\n",
       "            \"type\": \"line\",\n",
       "            \"name\": \"\\u6d4f\\u89c8\\u91cf\",\n",
       "            \"symbolSize\": 4,\n",
       "            \"showSymbol\": true,\n",
       "            \"smooth\": false,\n",
       "            \"step\": false,\n",
       "            \"data\": [\n",
       "                [\n",
       "                    \"2017-11-25\",\n",
       "                    9353423\n",
       "                ],\n",
       "                [\n",
       "                    \"2017-11-26\",\n",
       "                    9567423\n",
       "                ],\n",
       "                [\n",
       "                    \"2017-11-27\",\n",
       "                    9041187\n",
       "                ],\n",
       "                [\n",
       "                    \"2017-11-28\",\n",
       "                    8842933\n",
       "                ],\n",
       "                [\n",
       "                    \"2017-11-29\",\n",
       "                    9210821\n",
       "                ],\n",
       "                [\n",
       "                    \"2017-11-30\",\n",
       "                    9358998\n",
       "                ],\n",
       "                [\n",
       "                    \"2017-12-01\",\n",
       "                    9718959\n",
       "                ],\n",
       "                [\n",
       "                    \"2017-12-02\",\n",
       "                    12329644\n",
       "                ],\n",
       "                [\n",
       "                    \"2017-12-03\",\n",
       "                    12237300\n",
       "                ]\n",
       "            ],\n",
       "            \"label\": {\n",
       "                \"show\": true,\n",
       "                \"position\": \"top\",\n",
       "                \"margin\": 8,\n",
       "                \"fontSize\": 12\n",
       "            },\n",
       "            \"lineStyle\": {\n",
       "                \"width\": 1,\n",
       "                \"opacity\": 1,\n",
       "                \"curveness\": 0,\n",
       "                \"type\": \"solid\"\n",
       "            },\n",
       "            \"areaStyle\": {\n",
       "                \"opacity\": 0\n",
       "            }\n",
       "        }\n",
       "    ],\n",
       "    \"legend\": [\n",
       "        {\n",
       "            \"data\": [\n",
       "                \"\\u6d4f\\u89c8\\u91cf\"\n",
       "            ],\n",
       "            \"selected\": {\n",
       "                \"\\u6d4f\\u89c8\\u91cf\": true\n",
       "            }\n",
       "        }\n",
       "    ],\n",
       "    \"tooltip\": {\n",
       "        \"show\": true,\n",
       "        \"trigger\": \"item\",\n",
       "        \"triggerOn\": \"mousemove|click\",\n",
       "        \"axisPointer\": {\n",
       "            \"type\": \"line\"\n",
       "        },\n",
       "        \"textStyle\": {\n",
       "            \"fontSize\": 14\n",
       "        },\n",
       "        \"borderWidth\": 0\n",
       "    },\n",
       "    \"yAxis\": [\n",
       "        {\n",
       "            \"show\": true,\n",
       "            \"scale\": false,\n",
       "            \"nameLocation\": \"end\",\n",
       "            \"nameGap\": 15,\n",
       "            \"gridIndex\": 0,\n",
       "            \"inverse\": false,\n",
       "            \"offset\": 0,\n",
       "            \"splitNumber\": 5,\n",
       "            \"minInterval\": 0,\n",
       "            \"splitLine\": {\n",
       "                \"show\": false,\n",
       "                \"lineStyle\": {\n",
       "                    \"width\": 1,\n",
       "                    \"opacity\": 1,\n",
       "                    \"curveness\": 0,\n",
       "                    \"type\": \"solid\"\n",
       "                }\n",
       "            }\n",
       "        }\n",
       "    ],\n",
       "    \"xAxis\": [\n",
       "        {\n",
       "            \"show\": true,\n",
       "            \"scale\": false,\n",
       "            \"nameLocation\": \"end\",\n",
       "            \"nameGap\": 15,\n",
       "            \"gridIndex\": 0,\n",
       "            \"inverse\": false,\n",
       "            \"offset\": 0,\n",
       "            \"splitNumber\": 5,\n",
       "            \"minInterval\": 0,\n",
       "            \"splitLine\": {\n",
       "                \"show\": false,\n",
       "                \"lineStyle\": {\n",
       "                    \"width\": 1,\n",
       "                    \"opacity\": 1,\n",
       "                    \"curveness\": 0,\n",
       "                    \"type\": \"solid\"\n",
       "                }\n",
       "            },\n",
       "            \"data\": [\n",
       "                \"2017-11-25\",\n",
       "                \"2017-11-26\",\n",
       "                \"2017-11-27\",\n",
       "                \"2017-11-28\",\n",
       "                \"2017-11-29\",\n",
       "                \"2017-11-30\",\n",
       "                \"2017-12-01\",\n",
       "                \"2017-12-02\",\n",
       "                \"2017-12-03\"\n",
       "            ]\n",
       "        }\n",
       "    ]\n",
       "};\n",
       "        chart_ef9522de7aae42929b8569190f928c83.setOption(option_ef9522de7aae42929b8569190f928c83);\n",
       "    });\n",
       "</script>\n"
      ],
      "text/plain": [
       "<pyecharts.render.display.HTML at 0x125a14748>"
      ]
     },
     "execution_count": 30,
     "metadata": {},
     "output_type": "execute_result"
    }
   ],
   "source": [
    "# 查看每日浏览量情况\n",
    "pv_group = df_clean_pv.groupby(['Date'])['User ID'].count()\n",
    "\n",
    "line = (\n",
    "    Line(init_opts = opts.InitOpts(width=\"980px\"))\n",
    "    .add_xaxis(pv_group.index.tolist())\n",
    "    .add_yaxis(\"浏览量\",pv_group.tolist())\n",
    ")\n",
    "line.load_javascript()\n",
    "line.render()\n",
    "line.render_notebook()"
   ]
  },
  {
   "cell_type": "markdown",
   "metadata": {},
   "source": [
    "11月25日至12月3日为周六至次周周日共9天的数据，从用户浏览日分布情况来看，12月2日（周六）、12月3日（周日）的浏览量较大，但同时应注意到11月25日（周六）、11月26日（周日）的浏览量并不高，暂时不能确定浏览量增加与周末有关，日浏览量可能受访客数、访客浏览量影响。"
   ]
  },
  {
   "cell_type": "code",
   "execution_count": 17,
   "metadata": {},
   "outputs": [
    {
     "data": {
      "text/html": [
       "<script>\n",
       "    require.config({\n",
       "        paths: {\n",
       "            'echarts':'https://assets.pyecharts.org/assets/echarts.min'\n",
       "        }\n",
       "    });\n",
       "</script>\n",
       "\n",
       "    <div id=\"4b8208a8bd5e4dd9a58eaae71458b130\" style=\"width:980px; height:500px;\"></div>\n",
       "\n",
       "\n",
       "<script>\n",
       "    require(['echarts'], function(echarts) {\n",
       "        var chart_4b8208a8bd5e4dd9a58eaae71458b130 = echarts.init(\n",
       "            document.getElementById('4b8208a8bd5e4dd9a58eaae71458b130'), 'white', {renderer: 'canvas'});\n",
       "        var option_4b8208a8bd5e4dd9a58eaae71458b130 = {\n",
       "    \"color\": [\n",
       "        \"#c23531\",\n",
       "        \"#2f4554\",\n",
       "        \"#61a0a8\",\n",
       "        \"#d48265\",\n",
       "        \"#749f83\",\n",
       "        \"#ca8622\",\n",
       "        \"#bda29a\",\n",
       "        \"#6e7074\",\n",
       "        \"#546570\",\n",
       "        \"#c4ccd3\",\n",
       "        \"#f05b72\",\n",
       "        \"#ef5b9c\",\n",
       "        \"#f47920\",\n",
       "        \"#905a3d\",\n",
       "        \"#fab27b\",\n",
       "        \"#2a5caa\",\n",
       "        \"#444693\",\n",
       "        \"#726930\",\n",
       "        \"#b2d235\",\n",
       "        \"#6d8346\",\n",
       "        \"#ac6767\",\n",
       "        \"#1d953f\",\n",
       "        \"#6950a1\",\n",
       "        \"#918597\"\n",
       "    ],\n",
       "    \"series\": [\n",
       "        {\n",
       "            \"type\": \"line\",\n",
       "            \"name\": \"\\u8bbf\\u5ba2\\u6570\\u91cf\",\n",
       "            \"symbolSize\": 4,\n",
       "            \"showSymbol\": true,\n",
       "            \"smooth\": false,\n",
       "            \"step\": false,\n",
       "            \"data\": [\n",
       "                [\n",
       "                    \"2017-11-25\",\n",
       "                    686953\n",
       "                ],\n",
       "                [\n",
       "                    \"2017-11-26\",\n",
       "                    695869\n",
       "                ],\n",
       "                [\n",
       "                    \"2017-11-27\",\n",
       "                    689260\n",
       "                ],\n",
       "                [\n",
       "                    \"2017-11-28\",\n",
       "                    688042\n",
       "                ],\n",
       "                [\n",
       "                    \"2017-11-29\",\n",
       "                    697542\n",
       "                ],\n",
       "                [\n",
       "                    \"2017-11-30\",\n",
       "                    709586\n",
       "                ],\n",
       "                [\n",
       "                    \"2017-12-01\",\n",
       "                    718184\n",
       "                ],\n",
       "                [\n",
       "                    \"2017-12-02\",\n",
       "                    939383\n",
       "                ],\n",
       "                [\n",
       "                    \"2017-12-03\",\n",
       "                    936431\n",
       "                ]\n",
       "            ],\n",
       "            \"label\": {\n",
       "                \"show\": true,\n",
       "                \"position\": \"top\",\n",
       "                \"margin\": 8,\n",
       "                \"fontSize\": 12\n",
       "            },\n",
       "            \"lineStyle\": {\n",
       "                \"width\": 1,\n",
       "                \"opacity\": 1,\n",
       "                \"curveness\": 0,\n",
       "                \"type\": \"solid\"\n",
       "            },\n",
       "            \"areaStyle\": {\n",
       "                \"opacity\": 0\n",
       "            }\n",
       "        }\n",
       "    ],\n",
       "    \"legend\": [\n",
       "        {\n",
       "            \"data\": [\n",
       "                \"\\u8bbf\\u5ba2\\u6570\\u91cf\"\n",
       "            ],\n",
       "            \"selected\": {\n",
       "                \"\\u8bbf\\u5ba2\\u6570\\u91cf\": true\n",
       "            }\n",
       "        }\n",
       "    ],\n",
       "    \"tooltip\": {\n",
       "        \"show\": true,\n",
       "        \"trigger\": \"item\",\n",
       "        \"triggerOn\": \"mousemove|click\",\n",
       "        \"axisPointer\": {\n",
       "            \"type\": \"line\"\n",
       "        },\n",
       "        \"textStyle\": {\n",
       "            \"fontSize\": 14\n",
       "        },\n",
       "        \"borderWidth\": 0\n",
       "    },\n",
       "    \"yAxis\": [\n",
       "        {\n",
       "            \"show\": true,\n",
       "            \"scale\": false,\n",
       "            \"nameLocation\": \"end\",\n",
       "            \"nameGap\": 15,\n",
       "            \"gridIndex\": 0,\n",
       "            \"inverse\": false,\n",
       "            \"offset\": 0,\n",
       "            \"splitNumber\": 5,\n",
       "            \"minInterval\": 0,\n",
       "            \"splitLine\": {\n",
       "                \"show\": false,\n",
       "                \"lineStyle\": {\n",
       "                    \"width\": 1,\n",
       "                    \"opacity\": 1,\n",
       "                    \"curveness\": 0,\n",
       "                    \"type\": \"solid\"\n",
       "                }\n",
       "            }\n",
       "        }\n",
       "    ],\n",
       "    \"xAxis\": [\n",
       "        {\n",
       "            \"show\": true,\n",
       "            \"scale\": false,\n",
       "            \"nameLocation\": \"end\",\n",
       "            \"nameGap\": 15,\n",
       "            \"gridIndex\": 0,\n",
       "            \"inverse\": false,\n",
       "            \"offset\": 0,\n",
       "            \"splitNumber\": 5,\n",
       "            \"minInterval\": 0,\n",
       "            \"splitLine\": {\n",
       "                \"show\": false,\n",
       "                \"lineStyle\": {\n",
       "                    \"width\": 1,\n",
       "                    \"opacity\": 1,\n",
       "                    \"curveness\": 0,\n",
       "                    \"type\": \"solid\"\n",
       "                }\n",
       "            },\n",
       "            \"data\": [\n",
       "                \"2017-11-25\",\n",
       "                \"2017-11-26\",\n",
       "                \"2017-11-27\",\n",
       "                \"2017-11-28\",\n",
       "                \"2017-11-29\",\n",
       "                \"2017-11-30\",\n",
       "                \"2017-12-01\",\n",
       "                \"2017-12-02\",\n",
       "                \"2017-12-03\"\n",
       "            ]\n",
       "        }\n",
       "    ]\n",
       "};\n",
       "        chart_4b8208a8bd5e4dd9a58eaae71458b130.setOption(option_4b8208a8bd5e4dd9a58eaae71458b130);\n",
       "    });\n",
       "</script>\n"
      ],
      "text/plain": [
       "<pyecharts.render.display.HTML at 0x77c3e6978>"
      ]
     },
     "execution_count": 17,
     "metadata": {},
     "output_type": "execute_result"
    }
   ],
   "source": [
    "# 查看每日访客情况\n",
    "uv_group = df_clean_pv.drop_duplicates(subset = ['Date','User ID']).groupby(['Date'])['User ID'].count()\n",
    "\n",
    "line = (\n",
    "    Line(init_opts = opts.InitOpts(width=\"980px\"))\n",
    "    .add_xaxis(uv_group.index.tolist())\n",
    "    .add_yaxis(\"访客数量\",uv_group.tolist())\n",
    ")\n",
    "    \n",
    "line.render_notebook()"
   ]
  },
  {
   "cell_type": "markdown",
   "metadata": {},
   "source": [
    "可以看出，12月2日和12月3日的访客数较之前有所增加，因此12月2日和12月3日浏览量增加的因素之一为访客数增加。"
   ]
  },
  {
   "cell_type": "code",
   "execution_count": 31,
   "metadata": {},
   "outputs": [
    {
     "data": {
      "text/html": [
       "<script>\n",
       "    require.config({\n",
       "        paths: {\n",
       "            'echarts':'https://assets.pyecharts.org/assets/echarts.min'\n",
       "        }\n",
       "    });\n",
       "</script>\n",
       "\n",
       "    <div id=\"c7f9a40ab12c4ca0bc8de6c4d356c93b\" style=\"width:980px; height:500px;\"></div>\n",
       "\n",
       "\n",
       "<script>\n",
       "    require(['echarts'], function(echarts) {\n",
       "        var chart_c7f9a40ab12c4ca0bc8de6c4d356c93b = echarts.init(\n",
       "            document.getElementById('c7f9a40ab12c4ca0bc8de6c4d356c93b'), 'white', {renderer: 'canvas'});\n",
       "        var option_c7f9a40ab12c4ca0bc8de6c4d356c93b = {\n",
       "    \"color\": [\n",
       "        \"#c23531\",\n",
       "        \"#2f4554\",\n",
       "        \"#61a0a8\",\n",
       "        \"#d48265\",\n",
       "        \"#749f83\",\n",
       "        \"#ca8622\",\n",
       "        \"#bda29a\",\n",
       "        \"#6e7074\",\n",
       "        \"#546570\",\n",
       "        \"#c4ccd3\",\n",
       "        \"#f05b72\",\n",
       "        \"#ef5b9c\",\n",
       "        \"#f47920\",\n",
       "        \"#905a3d\",\n",
       "        \"#fab27b\",\n",
       "        \"#2a5caa\",\n",
       "        \"#444693\",\n",
       "        \"#726930\",\n",
       "        \"#b2d235\",\n",
       "        \"#6d8346\",\n",
       "        \"#ac6767\",\n",
       "        \"#1d953f\",\n",
       "        \"#6950a1\",\n",
       "        \"#918597\"\n",
       "    ],\n",
       "    \"series\": [\n",
       "        {\n",
       "            \"type\": \"line\",\n",
       "            \"name\": \"\\u8bbf\\u5ba2\\u5e73\\u5747\\u6d4f\\u89c8\\u91cf\",\n",
       "            \"symbolSize\": 4,\n",
       "            \"showSymbol\": true,\n",
       "            \"smooth\": false,\n",
       "            \"step\": false,\n",
       "            \"data\": [\n",
       "                [\n",
       "                    \"2017-11-25\",\n",
       "                    13.62\n",
       "                ],\n",
       "                [\n",
       "                    \"2017-11-26\",\n",
       "                    13.75\n",
       "                ],\n",
       "                [\n",
       "                    \"2017-11-27\",\n",
       "                    13.12\n",
       "                ],\n",
       "                [\n",
       "                    \"2017-11-28\",\n",
       "                    12.85\n",
       "                ],\n",
       "                [\n",
       "                    \"2017-11-29\",\n",
       "                    13.2\n",
       "                ],\n",
       "                [\n",
       "                    \"2017-11-30\",\n",
       "                    13.19\n",
       "                ],\n",
       "                [\n",
       "                    \"2017-12-01\",\n",
       "                    13.53\n",
       "                ],\n",
       "                [\n",
       "                    \"2017-12-02\",\n",
       "                    13.13\n",
       "                ],\n",
       "                [\n",
       "                    \"2017-12-03\",\n",
       "                    13.07\n",
       "                ]\n",
       "            ],\n",
       "            \"label\": {\n",
       "                \"show\": true,\n",
       "                \"position\": \"top\",\n",
       "                \"margin\": 8,\n",
       "                \"fontSize\": 12\n",
       "            },\n",
       "            \"lineStyle\": {\n",
       "                \"width\": 1,\n",
       "                \"opacity\": 1,\n",
       "                \"curveness\": 0,\n",
       "                \"type\": \"solid\"\n",
       "            },\n",
       "            \"areaStyle\": {\n",
       "                \"opacity\": 0\n",
       "            }\n",
       "        }\n",
       "    ],\n",
       "    \"legend\": [\n",
       "        {\n",
       "            \"data\": [\n",
       "                \"\\u8bbf\\u5ba2\\u5e73\\u5747\\u6d4f\\u89c8\\u91cf\"\n",
       "            ],\n",
       "            \"selected\": {\n",
       "                \"\\u8bbf\\u5ba2\\u5e73\\u5747\\u6d4f\\u89c8\\u91cf\": true\n",
       "            }\n",
       "        }\n",
       "    ],\n",
       "    \"tooltip\": {\n",
       "        \"show\": true,\n",
       "        \"trigger\": \"item\",\n",
       "        \"triggerOn\": \"mousemove|click\",\n",
       "        \"axisPointer\": {\n",
       "            \"type\": \"line\"\n",
       "        },\n",
       "        \"textStyle\": {\n",
       "            \"fontSize\": 14\n",
       "        },\n",
       "        \"borderWidth\": 0\n",
       "    },\n",
       "    \"yAxis\": [\n",
       "        {\n",
       "            \"show\": true,\n",
       "            \"scale\": false,\n",
       "            \"nameLocation\": \"end\",\n",
       "            \"nameGap\": 15,\n",
       "            \"gridIndex\": 0,\n",
       "            \"inverse\": false,\n",
       "            \"offset\": 0,\n",
       "            \"splitNumber\": 5,\n",
       "            \"minInterval\": 0,\n",
       "            \"splitLine\": {\n",
       "                \"show\": false,\n",
       "                \"lineStyle\": {\n",
       "                    \"width\": 1,\n",
       "                    \"opacity\": 1,\n",
       "                    \"curveness\": 0,\n",
       "                    \"type\": \"solid\"\n",
       "                }\n",
       "            }\n",
       "        }\n",
       "    ],\n",
       "    \"xAxis\": [\n",
       "        {\n",
       "            \"show\": true,\n",
       "            \"scale\": false,\n",
       "            \"nameLocation\": \"end\",\n",
       "            \"nameGap\": 15,\n",
       "            \"gridIndex\": 0,\n",
       "            \"inverse\": false,\n",
       "            \"offset\": 0,\n",
       "            \"splitNumber\": 5,\n",
       "            \"minInterval\": 0,\n",
       "            \"splitLine\": {\n",
       "                \"show\": false,\n",
       "                \"lineStyle\": {\n",
       "                    \"width\": 1,\n",
       "                    \"opacity\": 1,\n",
       "                    \"curveness\": 0,\n",
       "                    \"type\": \"solid\"\n",
       "                }\n",
       "            },\n",
       "            \"data\": [\n",
       "                \"2017-11-25\",\n",
       "                \"2017-11-26\",\n",
       "                \"2017-11-27\",\n",
       "                \"2017-11-28\",\n",
       "                \"2017-11-29\",\n",
       "                \"2017-11-30\",\n",
       "                \"2017-12-01\",\n",
       "                \"2017-12-02\",\n",
       "                \"2017-12-03\"\n",
       "            ]\n",
       "        }\n",
       "    ]\n",
       "};\n",
       "        chart_c7f9a40ab12c4ca0bc8de6c4d356c93b.setOption(option_c7f9a40ab12c4ca0bc8de6c4d356c93b);\n",
       "    });\n",
       "</script>\n"
      ],
      "text/plain": [
       "<pyecharts.render.display.HTML at 0x10e6b3588>"
      ]
     },
     "execution_count": 31,
     "metadata": {},
     "output_type": "execute_result"
    }
   ],
   "source": [
    "# 查看访客平均浏览量\n",
    "mean_pv = pv_group/uv_group \n",
    "mean_pv = mean_pv.apply(lambda a : round(a,2))\n",
    "\n",
    "line = (\n",
    "    Line(init_opts = opts.InitOpts(width=\"980px\"))\n",
    "    .add_xaxis(mean_pv.index.tolist())\n",
    "    .add_yaxis(\"访客平均浏览量\",mean_pv.tolist())\n",
    ")\n",
    "    \n",
    "\n",
    "line.render_notebook()"
   ]
  },
  {
   "cell_type": "markdown",
   "metadata": {},
   "source": [
    "可以看出，访客平均浏览量13左右，波动较小，因此12月2日和12月3日浏览量较大的因素为访客增加。"
   ]
  },
  {
   "cell_type": "code",
   "execution_count": 33,
   "metadata": {},
   "outputs": [
    {
     "data": {
      "image/png": "[encoded data removed]",
      "text/plain": [
       "<Figure size 1008x432 with 1 Axes>"
      ]
     },
     "metadata": {},
     "output_type": "display_data"
    }
   ],
   "source": [
    "# 用户每小时浏览网站分布情况（每日）\n",
    "df_clean_pv.groupby(['Hour'])['Date'].value_counts().unstack().plot(figsize = (14,6));"
   ]
  },
  {
   "cell_type": "markdown",
   "metadata": {},
   "source": [
    "可以看出，用户主要在晚上最为活跃，凌晨时段的活跃度最低，从各天的情况看，用户每日的活跃时段较为稳定，未明显发现受周末因素影响的迹象。"
   ]
  },
  {
   "cell_type": "code",
   "execution_count": 20,
   "metadata": {},
   "outputs": [
    {
     "data": {
      "image/png": "[encoded data removed]",
      "text/plain": [
       "<Figure size 1008x432 with 1 Axes>"
      ]
     },
     "metadata": {},
     "output_type": "display_data"
    }
   ],
   "source": [
    "# 查看用户其它行为的分布情况\n",
    "df_clean[df_clean['Behavior type'] != 'pv'].groupby(['Date'])['Behavior type'].value_counts().unstack().plot(figsize = (14,6));"
   ]
  },
  {
   "cell_type": "markdown",
   "metadata": {},
   "source": [
    "用户的加购物车、收藏、购买行为的频次与浏览频次类似，转化率的变化在探索用户行为转化问题时进行分析。"
   ]
  },
  {
   "cell_type": "markdown",
   "metadata": {},
   "source": [
    "### 2、用户行为的转化情况如何？"
   ]
  },
  {
   "cell_type": "code",
   "execution_count": 21,
   "metadata": {},
   "outputs": [
    {
     "data": {
      "text/plain": [
       "pv      89660688\n",
       "cart     5530446\n",
       "fav      2888258\n",
       "buy      2015839\n",
       "Name: Behavior type, dtype: int64"
      ]
     },
     "execution_count": 21,
     "metadata": {},
     "output_type": "execute_result"
    }
   ],
   "source": [
    "# 查看总体行为情况\n",
    "df_clean['Behavior type'].value_counts()"
   ]
  },
  {
   "cell_type": "code",
   "execution_count": 22,
   "metadata": {},
   "outputs": [],
   "source": [
    "# 将各行为赋值给相应变量\n",
    "pv = df_clean['Behavior type'].value_counts()[0]\n",
    "cart = df_clean['Behavior type'].value_counts()[1]\n",
    "fav = df_clean['Behavior type'].value_counts()[2]\n",
    "buy = df_clean['Behavior type'].value_counts()[3]"
   ]
  },
  {
   "cell_type": "code",
   "execution_count": 23,
   "metadata": {},
   "outputs": [
    {
     "data": {
      "text/plain": [
       "89660688"
      ]
     },
     "execution_count": 23,
     "metadata": {},
     "output_type": "execute_result"
    }
   ],
   "source": [
    "# 检验\n",
    "pv"
   ]
  },
  {
   "cell_type": "code",
   "execution_count": 24,
   "metadata": {},
   "outputs": [],
   "source": [
    "# 计算转化率\n",
    "pv_trans = \"100%\"\n",
    "cart_fav_trans = str(round((cart + fav) / pv * 100, 3)) + \"%\"\n",
    "buy_trans = str(round(buy / pv * 100, 3)) + \"%\""
   ]
  },
  {
   "cell_type": "code",
   "execution_count": 25,
   "metadata": {},
   "outputs": [
    {
     "data": {
      "text/plain": [
       "'9.39%'"
      ]
     },
     "execution_count": 25,
     "metadata": {},
     "output_type": "execute_result"
    }
   ],
   "source": [
    "# 检验\n",
    "cart_fav_trans"
   ]
  },
  {
   "cell_type": "code",
   "execution_count": 26,
   "metadata": {
    "scrolled": false
   },
   "outputs": [
    {
     "data": {
      "text/html": [
       "<script>\n",
       "    require.config({\n",
       "        paths: {\n",
       "            'echarts':'https://assets.pyecharts.org/assets/echarts.min'\n",
       "        }\n",
       "    });\n",
       "</script>\n",
       "\n",
       "    <div id=\"5bc575f3dc214fcabd41116a2f675277\" style=\"width:900px; height:500px;\"></div>\n",
       "\n",
       "\n",
       "<script>\n",
       "    require(['echarts'], function(echarts) {\n",
       "        var chart_5bc575f3dc214fcabd41116a2f675277 = echarts.init(\n",
       "            document.getElementById('5bc575f3dc214fcabd41116a2f675277'), 'white', {renderer: 'canvas'});\n",
       "        var option_5bc575f3dc214fcabd41116a2f675277 = {\n",
       "    \"color\": [\n",
       "        \"#c23531\",\n",
       "        \"#2f4554\",\n",
       "        \"#61a0a8\",\n",
       "        \"#d48265\",\n",
       "        \"#749f83\",\n",
       "        \"#ca8622\",\n",
       "        \"#bda29a\",\n",
       "        \"#6e7074\",\n",
       "        \"#546570\",\n",
       "        \"#c4ccd3\",\n",
       "        \"#f05b72\",\n",
       "        \"#ef5b9c\",\n",
       "        \"#f47920\",\n",
       "        \"#905a3d\",\n",
       "        \"#fab27b\",\n",
       "        \"#2a5caa\",\n",
       "        \"#444693\",\n",
       "        \"#726930\",\n",
       "        \"#b2d235\",\n",
       "        \"#6d8346\",\n",
       "        \"#ac6767\",\n",
       "        \"#1d953f\",\n",
       "        \"#6950a1\",\n",
       "        \"#918597\"\n",
       "    ],\n",
       "    \"series\": [\n",
       "        {\n",
       "            \"type\": \"funnel\",\n",
       "            \"name\": \"\\u8f6c\\u5316\\u7387\",\n",
       "            \"data\": [\n",
       "                {\n",
       "                    \"name\": \"\\u70b9\\u51fb\\u7387\\uff1a100%\",\n",
       "                    \"value\": 89660688\n",
       "                },\n",
       "                {\n",
       "                    \"name\": \"\\u6536\\u85cf\\u4e0e\\u52a0\\u8d2d\\u7269\\u8f66\\u7387\\uff1a9.39%\",\n",
       "                    \"value\": 8418704\n",
       "                },\n",
       "                {\n",
       "                    \"name\": \"\\u8d2d\\u4e70\\u7387\\uff1a2.248%\",\n",
       "                    \"value\": 2015839\n",
       "                }\n",
       "            ],\n",
       "            \"sort\": \"descending\",\n",
       "            \"gap\": 0,\n",
       "            \"label\": {\n",
       "                \"show\": true,\n",
       "                \"position\": \"top\",\n",
       "                \"margin\": 8,\n",
       "                \"fontSize\": 12\n",
       "            }\n",
       "        }\n",
       "    ],\n",
       "    \"legend\": [\n",
       "        {\n",
       "            \"data\": [\n",
       "                \"\\u70b9\\u51fb\\u7387\\uff1a100%\",\n",
       "                \"\\u8d2d\\u4e70\\u7387\\uff1a2.248%\",\n",
       "                \"\\u6536\\u85cf\\u4e0e\\u52a0\\u8d2d\\u7269\\u8f66\\u7387\\uff1a9.39%\"\n",
       "            ],\n",
       "            \"selected\": {\n",
       "                \"\\u70b9\\u51fb\\u7387\\uff1a100%\": true,\n",
       "                \"\\u6536\\u85cf\\u4e0e\\u52a0\\u8d2d\\u7269\\u8f66\\u7387\\uff1a9.39%\": true,\n",
       "                \"\\u8d2d\\u4e70\\u7387\\uff1a2.248%\": true\n",
       "            },\n",
       "            \"show\": true\n",
       "        }\n",
       "    ],\n",
       "    \"tooltip\": {\n",
       "        \"show\": true,\n",
       "        \"trigger\": \"item\",\n",
       "        \"triggerOn\": \"mousemove|click\",\n",
       "        \"axisPointer\": {\n",
       "            \"type\": \"line\"\n",
       "        },\n",
       "        \"textStyle\": {\n",
       "            \"fontSize\": 14\n",
       "        },\n",
       "        \"borderWidth\": 0\n",
       "    },\n",
       "    \"title\": [\n",
       "        {\n",
       "            \"text\": \"\\u8f6c\\u5316\\u7387\"\n",
       "        }\n",
       "    ]\n",
       "};\n",
       "        chart_5bc575f3dc214fcabd41116a2f675277.setOption(option_5bc575f3dc214fcabd41116a2f675277);\n",
       "    });\n",
       "</script>\n"
      ],
      "text/plain": [
       "<pyecharts.render.display.HTML at 0x10e6be550>"
      ]
     },
     "execution_count": 26,
     "metadata": {},
     "output_type": "execute_result"
    }
   ],
   "source": [
    "# 绘制漏斗图\n",
    "funnel = (\n",
    "    Funnel()\n",
    "    .add(\n",
    "        \"转化率\",\n",
    "    [[\"点击率：\" + pv_trans, int(pv)],\n",
    "     [\"收藏与加购物车率：\"+ cart_fav_trans, int(cart + fav)],\n",
    "     [\"购买率：\" + buy_trans, int(buy)]])\n",
    "    .set_global_opts(title_opts=opts.TitleOpts(title=\"转化率\"))\n",
    ")\n",
    "funnel.render_notebook()"
   ]
  },
  {
   "cell_type": "markdown",
   "metadata": {},
   "source": [
    "整体来看，收藏与加购物车转化率为9.39%，购买率为2.25%。"
   ]
  },
  {
   "cell_type": "code",
   "execution_count": 27,
   "metadata": {},
   "outputs": [],
   "source": [
    "# 生成每日用户行为数量汇总数据集\n",
    "df_group = df_clean.groupby(['Date'])['Behavior type'].value_counts().unstack()"
   ]
  },
  {
   "cell_type": "code",
   "execution_count": 28,
   "metadata": {},
   "outputs": [
    {
     "data": {
      "text/html": [
       "<div>\n",
       "<style scoped>\n",
       "    .dataframe tbody tr th:only-of-type {\n",
       "        vertical-align: middle;\n",
       "    }\n",
       "\n",
       "    .dataframe tbody tr th {\n",
       "        vertical-align: top;\n",
       "    }\n",
       "\n",
       "    .dataframe thead th {\n",
       "        text-align: right;\n",
       "    }\n",
       "</style>\n",
       "<table border=\"1\" class=\"dataframe\">\n",
       "  <thead>\n",
       "    <tr style=\"text-align: right;\">\n",
       "      <th>Behavior type</th>\n",
       "      <th>buy</th>\n",
       "      <th>cart</th>\n",
       "      <th>fav</th>\n",
       "      <th>pv</th>\n",
       "    </tr>\n",
       "    <tr>\n",
       "      <th>Date</th>\n",
       "      <th></th>\n",
       "      <th></th>\n",
       "      <th></th>\n",
       "      <th></th>\n",
       "    </tr>\n",
       "  </thead>\n",
       "  <tbody>\n",
       "    <tr>\n",
       "      <th>2017-11-25</th>\n",
       "      <td>201145</td>\n",
       "      <td>563376</td>\n",
       "      <td>302071</td>\n",
       "      <td>9353423</td>\n",
       "    </tr>\n",
       "    <tr>\n",
       "      <th>2017-11-26</th>\n",
       "      <td>205644</td>\n",
       "      <td>582581</td>\n",
       "      <td>308954</td>\n",
       "      <td>9567423</td>\n",
       "    </tr>\n",
       "    <tr>\n",
       "      <th>2017-11-27</th>\n",
       "      <td>226835</td>\n",
       "      <td>541904</td>\n",
       "      <td>291221</td>\n",
       "      <td>9041187</td>\n",
       "    </tr>\n",
       "    <tr>\n",
       "      <th>2017-11-28</th>\n",
       "      <td>212000</td>\n",
       "      <td>534157</td>\n",
       "      <td>289100</td>\n",
       "      <td>8842933</td>\n",
       "    </tr>\n",
       "    <tr>\n",
       "      <th>2017-11-29</th>\n",
       "      <td>223072</td>\n",
       "      <td>551593</td>\n",
       "      <td>298587</td>\n",
       "      <td>9210821</td>\n",
       "    </tr>\n",
       "    <tr>\n",
       "      <th>2017-11-30</th>\n",
       "      <td>221463</td>\n",
       "      <td>565015</td>\n",
       "      <td>302264</td>\n",
       "      <td>9358998</td>\n",
       "    </tr>\n",
       "    <tr>\n",
       "      <th>2017-12-01</th>\n",
       "      <td>210016</td>\n",
       "      <td>623346</td>\n",
       "      <td>307115</td>\n",
       "      <td>9718959</td>\n",
       "    </tr>\n",
       "    <tr>\n",
       "      <th>2017-12-02</th>\n",
       "      <td>257907</td>\n",
       "      <td>793569</td>\n",
       "      <td>396749</td>\n",
       "      <td>12329644</td>\n",
       "    </tr>\n",
       "    <tr>\n",
       "      <th>2017-12-03</th>\n",
       "      <td>257757</td>\n",
       "      <td>774905</td>\n",
       "      <td>392197</td>\n",
       "      <td>12237300</td>\n",
       "    </tr>\n",
       "  </tbody>\n",
       "</table>\n",
       "</div>"
      ],
      "text/plain": [
       "Behavior type     buy    cart     fav        pv\n",
       "Date                                           \n",
       "2017-11-25     201145  563376  302071   9353423\n",
       "2017-11-26     205644  582581  308954   9567423\n",
       "2017-11-27     226835  541904  291221   9041187\n",
       "2017-11-28     212000  534157  289100   8842933\n",
       "2017-11-29     223072  551593  298587   9210821\n",
       "2017-11-30     221463  565015  302264   9358998\n",
       "2017-12-01     210016  623346  307115   9718959\n",
       "2017-12-02     257907  793569  396749  12329644\n",
       "2017-12-03     257757  774905  392197  12237300"
      ]
     },
     "execution_count": 28,
     "metadata": {},
     "output_type": "execute_result"
    }
   ],
   "source": [
    "# 查看数据集\n",
    "df_group"
   ]
  },
  {
   "cell_type": "code",
   "execution_count": 29,
   "metadata": {},
   "outputs": [
    {
     "data": {
      "text/html": [
       "<script>\n",
       "    require.config({\n",
       "        paths: {\n",
       "            'echarts':'https://assets.pyecharts.org/assets/echarts.min'\n",
       "        }\n",
       "    });\n",
       "</script>\n",
       "\n",
       "    <div id=\"3f3834df96b74ac288347cf5c79d354d\" style=\"width:980px; height:500px;\"></div>\n",
       "\n",
       "\n",
       "<script>\n",
       "    require(['echarts'], function(echarts) {\n",
       "        var chart_3f3834df96b74ac288347cf5c79d354d = echarts.init(\n",
       "            document.getElementById('3f3834df96b74ac288347cf5c79d354d'), 'white', {renderer: 'canvas'});\n",
       "        var option_3f3834df96b74ac288347cf5c79d354d = {\n",
       "    \"color\": [\n",
       "        \"#c23531\",\n",
       "        \"#2f4554\",\n",
       "        \"#61a0a8\",\n",
       "        \"#d48265\",\n",
       "        \"#749f83\",\n",
       "        \"#ca8622\",\n",
       "        \"#bda29a\",\n",
       "        \"#6e7074\",\n",
       "        \"#546570\",\n",
       "        \"#c4ccd3\",\n",
       "        \"#f05b72\",\n",
       "        \"#ef5b9c\",\n",
       "        \"#f47920\",\n",
       "        \"#905a3d\",\n",
       "        \"#fab27b\",\n",
       "        \"#2a5caa\",\n",
       "        \"#444693\",\n",
       "        \"#726930\",\n",
       "        \"#b2d235\",\n",
       "        \"#6d8346\",\n",
       "        \"#ac6767\",\n",
       "        \"#1d953f\",\n",
       "        \"#6950a1\",\n",
       "        \"#918597\"\n",
       "    ],\n",
       "    \"series\": [\n",
       "        {\n",
       "            \"type\": \"line\",\n",
       "            \"name\": \"\\u8d2d\\u7269\\u8f66\\u4e0e\\u6536\\u85cf\\u8f6c\\u5316\\u7387\",\n",
       "            \"symbolSize\": 4,\n",
       "            \"showSymbol\": true,\n",
       "            \"smooth\": false,\n",
       "            \"step\": false,\n",
       "            \"data\": [\n",
       "                [\n",
       "                    \"2017-11-25\",\n",
       "                    0.093\n",
       "                ],\n",
       "                [\n",
       "                    \"2017-11-26\",\n",
       "                    0.093\n",
       "                ],\n",
       "                [\n",
       "                    \"2017-11-27\",\n",
       "                    0.092\n",
       "                ],\n",
       "                [\n",
       "                    \"2017-11-28\",\n",
       "                    0.093\n",
       "                ],\n",
       "                [\n",
       "                    \"2017-11-29\",\n",
       "                    0.092\n",
       "                ],\n",
       "                [\n",
       "                    \"2017-11-30\",\n",
       "                    0.093\n",
       "                ],\n",
       "                [\n",
       "                    \"2017-12-01\",\n",
       "                    0.096\n",
       "                ],\n",
       "                [\n",
       "                    \"2017-12-02\",\n",
       "                    0.097\n",
       "                ],\n",
       "                [\n",
       "                    \"2017-12-03\",\n",
       "                    0.095\n",
       "                ]\n",
       "            ],\n",
       "            \"label\": {\n",
       "                \"show\": true,\n",
       "                \"position\": \"top\",\n",
       "                \"margin\": 8,\n",
       "                \"fontSize\": 12\n",
       "            },\n",
       "            \"lineStyle\": {\n",
       "                \"width\": 1,\n",
       "                \"opacity\": 1,\n",
       "                \"curveness\": 0,\n",
       "                \"type\": \"solid\"\n",
       "            },\n",
       "            \"areaStyle\": {\n",
       "                \"opacity\": 0\n",
       "            }\n",
       "        },\n",
       "        {\n",
       "            \"type\": \"line\",\n",
       "            \"name\": \"\\u8d2d\\u4e70\\u8f6c\\u6362\\u7387\",\n",
       "            \"symbolSize\": 4,\n",
       "            \"showSymbol\": true,\n",
       "            \"smooth\": false,\n",
       "            \"step\": false,\n",
       "            \"data\": [\n",
       "                [\n",
       "                    \"2017-11-25\",\n",
       "                    0.022\n",
       "                ],\n",
       "                [\n",
       "                    \"2017-11-26\",\n",
       "                    0.021\n",
       "                ],\n",
       "                [\n",
       "                    \"2017-11-27\",\n",
       "                    0.025\n",
       "                ],\n",
       "                [\n",
       "                    \"2017-11-28\",\n",
       "                    0.024\n",
       "                ],\n",
       "                [\n",
       "                    \"2017-11-29\",\n",
       "                    0.024\n",
       "                ],\n",
       "                [\n",
       "                    \"2017-11-30\",\n",
       "                    0.024\n",
       "                ],\n",
       "                [\n",
       "                    \"2017-12-01\",\n",
       "                    0.022\n",
       "                ],\n",
       "                [\n",
       "                    \"2017-12-02\",\n",
       "                    0.021\n",
       "                ],\n",
       "                [\n",
       "                    \"2017-12-03\",\n",
       "                    0.021\n",
       "                ]\n",
       "            ],\n",
       "            \"label\": {\n",
       "                \"show\": true,\n",
       "                \"position\": \"top\",\n",
       "                \"margin\": 8,\n",
       "                \"fontSize\": 12\n",
       "            },\n",
       "            \"lineStyle\": {\n",
       "                \"width\": 1,\n",
       "                \"opacity\": 1,\n",
       "                \"curveness\": 0,\n",
       "                \"type\": \"solid\"\n",
       "            },\n",
       "            \"areaStyle\": {\n",
       "                \"opacity\": 0\n",
       "            }\n",
       "        }\n",
       "    ],\n",
       "    \"legend\": [\n",
       "        {\n",
       "            \"data\": [\n",
       "                \"\\u8d2d\\u7269\\u8f66\\u4e0e\\u6536\\u85cf\\u8f6c\\u5316\\u7387\",\n",
       "                \"\\u8d2d\\u4e70\\u8f6c\\u6362\\u7387\"\n",
       "            ],\n",
       "            \"selected\": {\n",
       "                \"\\u8d2d\\u7269\\u8f66\\u4e0e\\u6536\\u85cf\\u8f6c\\u5316\\u7387\": true,\n",
       "                \"\\u8d2d\\u4e70\\u8f6c\\u6362\\u7387\": true\n",
       "            }\n",
       "        }\n",
       "    ],\n",
       "    \"tooltip\": {\n",
       "        \"show\": true,\n",
       "        \"trigger\": \"item\",\n",
       "        \"triggerOn\": \"mousemove|click\",\n",
       "        \"axisPointer\": {\n",
       "            \"type\": \"line\"\n",
       "        },\n",
       "        \"textStyle\": {\n",
       "            \"fontSize\": 14\n",
       "        },\n",
       "        \"borderWidth\": 0\n",
       "    },\n",
       "    \"yAxis\": [\n",
       "        {\n",
       "            \"show\": true,\n",
       "            \"scale\": false,\n",
       "            \"nameLocation\": \"end\",\n",
       "            \"nameGap\": 15,\n",
       "            \"gridIndex\": 0,\n",
       "            \"inverse\": false,\n",
       "            \"offset\": 0,\n",
       "            \"splitNumber\": 5,\n",
       "            \"minInterval\": 0,\n",
       "            \"splitLine\": {\n",
       "                \"show\": false,\n",
       "                \"lineStyle\": {\n",
       "                    \"width\": 1,\n",
       "                    \"opacity\": 1,\n",
       "                    \"curveness\": 0,\n",
       "                    \"type\": \"solid\"\n",
       "                }\n",
       "            }\n",
       "        }\n",
       "    ],\n",
       "    \"xAxis\": [\n",
       "        {\n",
       "            \"show\": true,\n",
       "            \"scale\": false,\n",
       "            \"nameLocation\": \"end\",\n",
       "            \"nameGap\": 15,\n",
       "            \"gridIndex\": 0,\n",
       "            \"inverse\": false,\n",
       "            \"offset\": 0,\n",
       "            \"splitNumber\": 5,\n",
       "            \"minInterval\": 0,\n",
       "            \"splitLine\": {\n",
       "                \"show\": false,\n",
       "                \"lineStyle\": {\n",
       "                    \"width\": 1,\n",
       "                    \"opacity\": 1,\n",
       "                    \"curveness\": 0,\n",
       "                    \"type\": \"solid\"\n",
       "                }\n",
       "            },\n",
       "            \"data\": [\n",
       "                \"2017-11-25\",\n",
       "                \"2017-11-26\",\n",
       "                \"2017-11-27\",\n",
       "                \"2017-11-28\",\n",
       "                \"2017-11-29\",\n",
       "                \"2017-11-30\",\n",
       "                \"2017-12-01\",\n",
       "                \"2017-12-02\",\n",
       "                \"2017-12-03\"\n",
       "            ]\n",
       "        }\n",
       "    ]\n",
       "};\n",
       "        chart_3f3834df96b74ac288347cf5c79d354d.setOption(option_3f3834df96b74ac288347cf5c79d354d);\n",
       "    });\n",
       "</script>\n"
      ],
      "text/plain": [
       "<pyecharts.render.display.HTML at 0x169196be0>"
      ]
     },
     "execution_count": 29,
     "metadata": {},
     "output_type": "execute_result"
    }
   ],
   "source": [
    "# 绘制每日用户行为转化率折线图\n",
    "pv_fav_cart = round((df_group['fav'] +df_group['cart']) / df_group['pv'],3)\n",
    "pv_buy = round(df_group['buy'] / df_group['pv'],3)\n",
    "line = (\n",
    "    Line(init_opts = opts.InitOpts(width=\"980px\"))\n",
    "    .add_xaxis(df_group.index.tolist())\n",
    "    .add_yaxis(\"购物车与收藏转化率\",pv_fav_cart.tolist())\n",
    "    .add_yaxis(\"购买转换率\", pv_buy.tolist())\n",
    ")\n",
    "    \n",
    "line.render_notebook()"
   ]
  },
  {
   "cell_type": "markdown",
   "metadata": {},
   "source": [
    "可以看出，购物车与收藏转化率在11月25日至11月30日较为平稳，而购买转换率在11月27日至12月30日较为平稳。11月25日、26日及12月1日-3日的购买转化率较低，同时12月1日-3日的购物车与收藏转化率较高，12月1日起有促销活动预热的概率较大，导致加购物车与收藏转化率升高，购买转化率降低，其次周末的购买转化率较平时低。"
   ]
  },
  {
   "cell_type": "markdown",
   "metadata": {},
   "source": [
    "<a id='conclusion'></a>"
   ]
  },
  {
   "cell_type": "markdown",
   "metadata": {},
   "source": [
    "## 结论"
   ]
  },
  {
   "cell_type": "markdown",
   "metadata": {},
   "source": [
    "### 1、用户浏览行为的时间规律\n",
    "- 用户在晚上较为活跃，21时-22时活跃度最高，凌晨活跃度较低，推送消息的时间可考虑设置在下午、晚上。\n",
    "- 在此数据集中未发现用户周末与平时的浏览行为有较大差异。\n",
    "- 12月2日、3日用户行为频次较之前明显增加，系访客数量增加导致。"
   ]
  },
  {
   "cell_type": "markdown",
   "metadata": {},
   "source": [
    "### 2、用户行为的转化情况\n",
    "- 用户的购物车与收藏转化率为9.39%，购买转化率为2.25%， 12月1日起疑似有促销活动预热，导致加购物车与收藏转化率升高，购买转化率降低。其次可发现周末的购买转化率较平时低。"
   ]
  },
  {
   "cell_type": "markdown",
   "metadata": {},
   "source": [
    "<a id='introspection'></a>"
   ]
  },
  {
   "cell_type": "markdown",
   "metadata": {},
   "source": [
    "## 反思"
   ]
  },
  {
   "cell_type": "markdown",
   "metadata": {},
   "source": [
    "- 12月2日、3日用户行为频次较之前有明显增加，初步分析为访客数量增加导致，从各行为数据来看，12月1日起加购物车及收藏转化率有提升，疑似有促销活动预热，但因无活动内容的相关数据，无法进行进一步的分析挖掘。\n",
    "- 因暂未学习机器学习相关知识，仅就时间维度对用户的行为规律进行了分析，未将用户行为及品类、商品相关联，进一步分析相关用户的商品推荐系统。"
   ]
  },
  {
   "cell_type": "code",
   "execution_count": null,
   "metadata": {},
   "outputs": [],
   "source": []
  }
 ],
 "metadata": {
  "kernelspec": {
   "display_name": "Python 3",
   "language": "python",
   "name": "python3"
  },
  "language_info": {
   "codemirror_mode": {
    "name": "ipython",
    "version": 3
   },
   "file_extension": ".py",
   "mimetype": "text/x-python",
   "name": "python",
   "nbconvert_exporter": "python",
   "pygments_lexer": "ipython3",
   "version": "3.6.8"
  }
 },
 "nbformat": 4,
 "nbformat_minor": 2
}
